{
  "nbformat": 4,
  "nbformat_minor": 0,
  "metadata": {
    "colab": {
      "provenance": [],
      "authorship_tag": "ABX9TyNKLiamzlh9LACa+YtOFsxd",
      "include_colab_link": true
    },
    "kernelspec": {
      "name": "python3",
      "display_name": "Python 3"
    },
    "language_info": {
      "name": "python"
    }
  },
  "cells": [
    {
      "cell_type": "markdown",
      "metadata": {
        "id": "view-in-github",
        "colab_type": "text"
      },
      "source": [
        "<a href=\"https://colab.research.google.com/github/va4756/big_RaeJung/blob/main/MachineLearning_%EC%9D%B4%EC%83%81%EC%B2%A0_ML01.ipynb\" target=\"_parent\"><img src=\"https://colab.research.google.com/assets/colab-badge.svg\" alt=\"Open In Colab\"/></a>"
      ]
    },
    {
      "cell_type": "markdown",
      "source": [
        "# 00.Python 기초 및 데이터 처리"
      ],
      "metadata": {
        "id": "WyGKmDZua1YV"
      }
    },
    {
      "cell_type": "markdown",
      "source": [
        "## 1.Pytnon 기초"
      ],
      "metadata": {
        "id": "ft8bDQnQa8W6"
      }
    },
    {
      "cell_type": "markdown",
      "source": [
        "### 1.1 변수선언"
      ],
      "metadata": {
        "id": "c83gZ2aUbAij"
      }
    },
    {
      "cell_type": "code",
      "execution_count": null,
      "metadata": {
        "id": "ckCnTTfxakhu"
      },
      "outputs": [],
      "source": []
    }
  ]
}