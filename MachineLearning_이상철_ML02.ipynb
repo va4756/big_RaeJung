{
  "nbformat": 4,
  "nbformat_minor": 0,
  "metadata": {
    "colab": {
      "provenance": [],
      "authorship_tag": "ABX9TyNHGBDHaroU4qwoAhWtBLBg",
      "include_colab_link": true
    },
    "kernelspec": {
      "name": "python3",
      "display_name": "Python 3"
    },
    "language_info": {
      "name": "python"
    }
  },
  "cells": [
    {
      "cell_type": "markdown",
      "metadata": {
        "id": "view-in-github",
        "colab_type": "text"
      },
      "source": [
        "<a href=\"https://colab.research.google.com/github/va4756/big_RaeJung/blob/main/MachineLearning_%EC%9D%B4%EC%83%81%EC%B2%A0_ML02.ipynb\" target=\"_parent\"><img src=\"https://colab.research.google.com/assets/colab-badge.svg\" alt=\"Open In Colab\"/></a>"
      ]
    },
    {
      "cell_type": "markdown",
      "source": [
        "# 02_01 Artificial Neural Network(예측)"
      ],
      "metadata": {
        "id": "_EZ367OGFn0Z"
      }
    },
    {
      "cell_type": "markdown",
      "source": [
        "## 1.기본패키지 설치"
      ],
      "metadata": {
        "id": "C-8jwegWF1Kt"
      }
    },
    {
      "cell_type": "code",
      "execution_count": null,
      "metadata": {
        "id": "Jlpelv7-FiNO"
      },
      "outputs": [],
      "source": [
        "# 그래프에서 한글 폰트 인식하기\n",
        "!sudo apt-get install -y fonts-nanum\n",
        "!sudo fc-cache -fv\n",
        "!rm ~/.cache/matplotlib -rf\n",
        "\n",
        "#  *** 런타임 다시 시작"
      ]
    },
    {
      "cell_type": "code",
      "source": [
        "## 1.기본\n",
        "import numpy as np\n",
        "import matplotlib.pyplot as plt\n",
        "import seaborn as sns\n",
        "\n",
        "# 2.데이터 가져오기\n",
        "import pandas as pd"
      ],
      "metadata": {
        "id": "UptsMPiiGMcO"
      },
      "execution_count": 1,
      "outputs": []
    },
    {
      "cell_type": "code",
      "source": [
        "# 한글 폰트 인식\n",
        "plt.rc('font', family='NanumBarunGothic')"
      ],
      "metadata": {
        "id": "ctJfC32OGMPM"
      },
      "execution_count": 2,
      "outputs": []
    },
    {
      "cell_type": "code",
      "source": [],
      "metadata": {
        "id": "CuOM6B_qGi2E"
      },
      "execution_count": null,
      "outputs": []
    }
  ]
}